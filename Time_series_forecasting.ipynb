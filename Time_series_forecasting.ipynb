{
  "nbformat": 4,
  "nbformat_minor": 0,
  "metadata": {
    "colab": {
      "name": "Time_series_forecasting.ipynb",
      "provenance": [],
      "collapsed_sections": []
    },
    "kernelspec": {
      "name": "python3",
      "display_name": "Python 3"
    }
  },
  "cells": [
    {
      "cell_type": "code",
      "metadata": {
        "id": "lWbok084he1f",
        "colab_type": "code",
        "colab": {
          "base_uri": "https://localhost:8080/",
          "height": 122
        },
        "outputId": "4ea6c7dc-c8cd-438c-bfa9-82ad8ae68532"
      },
      "source": [
        "from google.colab import drive\n",
        "drive.mount('/content/drive')"
      ],
      "execution_count": 2,
      "outputs": [
        {
          "output_type": "stream",
          "text": [
            "Go to this URL in a browser: https://accounts.google.com/o/oauth2/auth?client_id=947318989803-6bn6qk8qdgf4n4g3pfee6491hc0brc4i.apps.googleusercontent.com&redirect_uri=urn%3aietf%3awg%3aoauth%3a2.0%3aoob&response_type=code&scope=email%20https%3a%2f%2fwww.googleapis.com%2fauth%2fdocs.test%20https%3a%2f%2fwww.googleapis.com%2fauth%2fdrive%20https%3a%2f%2fwww.googleapis.com%2fauth%2fdrive.photos.readonly%20https%3a%2f%2fwww.googleapis.com%2fauth%2fpeopleapi.readonly\n",
            "\n",
            "Enter your authorization code:\n",
            "··········\n",
            "Mounted at /content/drive\n"
          ],
          "name": "stdout"
        }
      ]
    },
    {
      "cell_type": "code",
      "metadata": {
        "id": "iS8FvVJZlUJh",
        "colab_type": "code",
        "colab": {}
      },
      "source": [
        "import numpy as np\n",
        "import matplotlib.pyplot as plt\n",
        "import pandas as pd\n",
        "from sklearn.preprocessing import MinMaxScaler"
      ],
      "execution_count": 3,
      "outputs": []
    },
    {
      "cell_type": "code",
      "metadata": {
        "id": "2G7sHLWBl4kY",
        "colab_type": "code",
        "colab": {
          "base_uri": "https://localhost:8080/",
          "height": 204
        },
        "outputId": "124e5962-c0c0-4d00-edda-a430faf6ddf9"
      },
      "source": [
        "data = pd.read_csv('/content/drive/My Drive/Dataset/tesla.csv', date_parser=True)\n",
        "data.head()"
      ],
      "execution_count": 4,
      "outputs": [
        {
          "output_type": "execute_result",
          "data": {
            "text/html": [
              "<div>\n",
              "<style scoped>\n",
              "    .dataframe tbody tr th:only-of-type {\n",
              "        vertical-align: middle;\n",
              "    }\n",
              "\n",
              "    .dataframe tbody tr th {\n",
              "        vertical-align: top;\n",
              "    }\n",
              "\n",
              "    .dataframe thead th {\n",
              "        text-align: right;\n",
              "    }\n",
              "</style>\n",
              "<table border=\"1\" class=\"dataframe\">\n",
              "  <thead>\n",
              "    <tr style=\"text-align: right;\">\n",
              "      <th></th>\n",
              "      <th>Date</th>\n",
              "      <th>Open</th>\n",
              "      <th>High</th>\n",
              "      <th>Low</th>\n",
              "      <th>Close</th>\n",
              "      <th>Volume</th>\n",
              "      <th>Adj Close</th>\n",
              "    </tr>\n",
              "  </thead>\n",
              "  <tbody>\n",
              "    <tr>\n",
              "      <th>0</th>\n",
              "      <td>6/29/2010</td>\n",
              "      <td>19.000000</td>\n",
              "      <td>25.00</td>\n",
              "      <td>17.540001</td>\n",
              "      <td>23.889999</td>\n",
              "      <td>18766300</td>\n",
              "      <td>23.889999</td>\n",
              "    </tr>\n",
              "    <tr>\n",
              "      <th>1</th>\n",
              "      <td>6/30/2010</td>\n",
              "      <td>25.790001</td>\n",
              "      <td>30.42</td>\n",
              "      <td>23.299999</td>\n",
              "      <td>23.830000</td>\n",
              "      <td>17187100</td>\n",
              "      <td>23.830000</td>\n",
              "    </tr>\n",
              "    <tr>\n",
              "      <th>2</th>\n",
              "      <td>7/1/2010</td>\n",
              "      <td>25.000000</td>\n",
              "      <td>25.92</td>\n",
              "      <td>20.270000</td>\n",
              "      <td>21.959999</td>\n",
              "      <td>8218800</td>\n",
              "      <td>21.959999</td>\n",
              "    </tr>\n",
              "    <tr>\n",
              "      <th>3</th>\n",
              "      <td>7/2/2010</td>\n",
              "      <td>23.000000</td>\n",
              "      <td>23.10</td>\n",
              "      <td>18.709999</td>\n",
              "      <td>19.200001</td>\n",
              "      <td>5139800</td>\n",
              "      <td>19.200001</td>\n",
              "    </tr>\n",
              "    <tr>\n",
              "      <th>4</th>\n",
              "      <td>7/6/2010</td>\n",
              "      <td>20.000000</td>\n",
              "      <td>20.00</td>\n",
              "      <td>15.830000</td>\n",
              "      <td>16.110001</td>\n",
              "      <td>6866900</td>\n",
              "      <td>16.110001</td>\n",
              "    </tr>\n",
              "  </tbody>\n",
              "</table>\n",
              "</div>"
            ],
            "text/plain": [
              "        Date       Open   High        Low      Close    Volume  Adj Close\n",
              "0  6/29/2010  19.000000  25.00  17.540001  23.889999  18766300  23.889999\n",
              "1  6/30/2010  25.790001  30.42  23.299999  23.830000  17187100  23.830000\n",
              "2   7/1/2010  25.000000  25.92  20.270000  21.959999   8218800  21.959999\n",
              "3   7/2/2010  23.000000  23.10  18.709999  19.200001   5139800  19.200001\n",
              "4   7/6/2010  20.000000  20.00  15.830000  16.110001   6866900  16.110001"
            ]
          },
          "metadata": {
            "tags": []
          },
          "execution_count": 4
        }
      ]
    },
    {
      "cell_type": "code",
      "metadata": {
        "id": "TpCc2uz_uHeV",
        "colab_type": "code",
        "colab": {}
      },
      "source": [
        "data_train = data[data['Date']<'2019-01-01'].copy()\n",
        "data_test = data[data['Date']>='2019-01-01'].copy()                                  "
      ],
      "execution_count": 5,
      "outputs": []
    },
    {
      "cell_type": "code",
      "metadata": {
        "id": "iSfhe0xvu85l",
        "colab_type": "code",
        "colab": {
          "base_uri": "https://localhost:8080/",
          "height": 204
        },
        "outputId": "2058d3ef-1dfa-4824-b831-e48812ba465c"
      },
      "source": [
        "training_data = data_train.drop(['Date', 'Adj Close'], axis=1)\n",
        "training_data.head()"
      ],
      "execution_count": 6,
      "outputs": [
        {
          "output_type": "execute_result",
          "data": {
            "text/html": [
              "<div>\n",
              "<style scoped>\n",
              "    .dataframe tbody tr th:only-of-type {\n",
              "        vertical-align: middle;\n",
              "    }\n",
              "\n",
              "    .dataframe tbody tr th {\n",
              "        vertical-align: top;\n",
              "    }\n",
              "\n",
              "    .dataframe thead th {\n",
              "        text-align: right;\n",
              "    }\n",
              "</style>\n",
              "<table border=\"1\" class=\"dataframe\">\n",
              "  <thead>\n",
              "    <tr style=\"text-align: right;\">\n",
              "      <th></th>\n",
              "      <th>Open</th>\n",
              "      <th>High</th>\n",
              "      <th>Low</th>\n",
              "      <th>Close</th>\n",
              "      <th>Volume</th>\n",
              "    </tr>\n",
              "  </thead>\n",
              "  <tbody>\n",
              "    <tr>\n",
              "      <th>66</th>\n",
              "      <td>20.690001</td>\n",
              "      <td>20.750000</td>\n",
              "      <td>20.309999</td>\n",
              "      <td>20.600000</td>\n",
              "      <td>597700</td>\n",
              "    </tr>\n",
              "    <tr>\n",
              "      <th>67</th>\n",
              "      <td>20.430000</td>\n",
              "      <td>21.170000</td>\n",
              "      <td>20.299999</td>\n",
              "      <td>20.990000</td>\n",
              "      <td>643600</td>\n",
              "    </tr>\n",
              "    <tr>\n",
              "      <th>68</th>\n",
              "      <td>21.150000</td>\n",
              "      <td>21.280001</td>\n",
              "      <td>21.010000</td>\n",
              "      <td>21.120001</td>\n",
              "      <td>332000</td>\n",
              "    </tr>\n",
              "    <tr>\n",
              "      <th>69</th>\n",
              "      <td>21.059999</td>\n",
              "      <td>21.260000</td>\n",
              "      <td>20.320000</td>\n",
              "      <td>20.459999</td>\n",
              "      <td>313400</td>\n",
              "    </tr>\n",
              "    <tr>\n",
              "      <th>70</th>\n",
              "      <td>20.570000</td>\n",
              "      <td>20.639999</td>\n",
              "      <td>20.340000</td>\n",
              "      <td>20.430000</td>\n",
              "      <td>141000</td>\n",
              "    </tr>\n",
              "  </tbody>\n",
              "</table>\n",
              "</div>"
            ],
            "text/plain": [
              "         Open       High        Low      Close  Volume\n",
              "66  20.690001  20.750000  20.309999  20.600000  597700\n",
              "67  20.430000  21.170000  20.299999  20.990000  643600\n",
              "68  21.150000  21.280001  21.010000  21.120001  332000\n",
              "69  21.059999  21.260000  20.320000  20.459999  313400\n",
              "70  20.570000  20.639999  20.340000  20.430000  141000"
            ]
          },
          "metadata": {
            "tags": []
          },
          "execution_count": 6
        }
      ]
    },
    {
      "cell_type": "code",
      "metadata": {
        "id": "KdDK9sH0vNzW",
        "colab_type": "code",
        "colab": {}
      },
      "source": [
        "scaler = MinMaxScaler()\n",
        "training_data = scaler.fit_transform(training_data)\n",
        "\n",
        "X_train = []\n",
        "y_train = []\n",
        "\n",
        "for i in range(60, training_data.shape[0]):\n",
        "  X_train.append(training_data[i-60:i])\n",
        "  y_train.append(training_data[i,0])"
      ],
      "execution_count": 7,
      "outputs": []
    },
    {
      "cell_type": "code",
      "metadata": {
        "id": "73_A2il_wdc9",
        "colab_type": "code",
        "colab": {
          "base_uri": "https://localhost:8080/",
          "height": 34
        },
        "outputId": "c7c3aac6-a7c5-49fb-a849-94cf5987e1cd"
      },
      "source": [
        "X_train, y_train = np.array(X_train), np.array(y_train)\n",
        "X_train.shape, y_train.shape"
      ],
      "execution_count": 8,
      "outputs": [
        {
          "output_type": "execute_result",
          "data": {
            "text/plain": [
              "((660, 60, 5), (660,))"
            ]
          },
          "metadata": {
            "tags": []
          },
          "execution_count": 8
        }
      ]
    },
    {
      "cell_type": "code",
      "metadata": {
        "id": "H3GTCMbww3Qz",
        "colab_type": "code",
        "colab": {}
      },
      "source": [
        "from tensorflow.keras import Sequential\n",
        "from tensorflow.keras.layers import LSTM, Dense, Dropout"
      ],
      "execution_count": 9,
      "outputs": []
    },
    {
      "cell_type": "code",
      "metadata": {
        "id": "W7RV-g8pxDEm",
        "colab_type": "code",
        "colab": {}
      },
      "source": [
        "regression = Sequential()\n",
        "\n",
        "regression.add(LSTM(units = 60, activation='relu', return_sequences=True, input_shape= (X_train.shape[1], 5)))\n",
        "regression.add(Dropout(0.20))\n",
        "\n",
        "regression.add(LSTM(units = 60, activation='relu', return_sequences=True))\n",
        "regression.add(Dropout(0.2))\n",
        "\n",
        "regression.add(LSTM(units = 80, activation='relu', return_sequences=True))\n",
        "regression.add(Dropout(0.2))\n",
        "\n",
        "regression.add(LSTM(units = 120, activation='relu'))\n",
        "regression.add(Dropout(0.2))\n",
        "\n",
        "regression.add(Dense(units = 1))"
      ],
      "execution_count": 10,
      "outputs": []
    },
    {
      "cell_type": "code",
      "metadata": {
        "id": "l9924RUHyYx_",
        "colab_type": "code",
        "colab": {
          "base_uri": "https://localhost:8080/",
          "height": 459
        },
        "outputId": "cda8dad0-7928-40bb-bfde-74c4c0d9c069"
      },
      "source": [
        "regression.summary()"
      ],
      "execution_count": 11,
      "outputs": [
        {
          "output_type": "stream",
          "text": [
            "Model: \"sequential\"\n",
            "_________________________________________________________________\n",
            "Layer (type)                 Output Shape              Param #   \n",
            "=================================================================\n",
            "lstm (LSTM)                  (None, 60, 60)            15840     \n",
            "_________________________________________________________________\n",
            "dropout (Dropout)            (None, 60, 60)            0         \n",
            "_________________________________________________________________\n",
            "lstm_1 (LSTM)                (None, 60, 60)            29040     \n",
            "_________________________________________________________________\n",
            "dropout_1 (Dropout)          (None, 60, 60)            0         \n",
            "_________________________________________________________________\n",
            "lstm_2 (LSTM)                (None, 60, 80)            45120     \n",
            "_________________________________________________________________\n",
            "dropout_2 (Dropout)          (None, 60, 80)            0         \n",
            "_________________________________________________________________\n",
            "lstm_3 (LSTM)                (None, 120)               96480     \n",
            "_________________________________________________________________\n",
            "dropout_3 (Dropout)          (None, 120)               0         \n",
            "_________________________________________________________________\n",
            "dense (Dense)                (None, 1)                 121       \n",
            "=================================================================\n",
            "Total params: 186,601\n",
            "Trainable params: 186,601\n",
            "Non-trainable params: 0\n",
            "_________________________________________________________________\n"
          ],
          "name": "stdout"
        }
      ]
    },
    {
      "cell_type": "code",
      "metadata": {
        "id": "93DkstIJyiLo",
        "colab_type": "code",
        "colab": {}
      },
      "source": [
        "regression.compile(optimizer='adam', loss='mean_squared_error')"
      ],
      "execution_count": 12,
      "outputs": []
    },
    {
      "cell_type": "code",
      "metadata": {
        "id": "DDrpVFLRyxmr",
        "colab_type": "code",
        "colab": {
          "base_uri": "https://localhost:8080/",
          "height": 1000
        },
        "outputId": "db9dd630-1de1-458e-bfc5-ceb974e7f70f"
      },
      "source": [
        "regression.fit(X_train, y_train, epochs=50, batch_size=32)"
      ],
      "execution_count": 13,
      "outputs": [
        {
          "output_type": "stream",
          "text": [
            "Epoch 1/50\n",
            "21/21 [==============================] - 3s 145ms/step - loss: 0.1169\n",
            "Epoch 2/50\n",
            "21/21 [==============================] - 3s 144ms/step - loss: 0.0246\n",
            "Epoch 3/50\n",
            "21/21 [==============================] - 3s 145ms/step - loss: 0.0136\n",
            "Epoch 4/50\n",
            "21/21 [==============================] - 3s 145ms/step - loss: 0.0134\n",
            "Epoch 5/50\n",
            "21/21 [==============================] - 3s 147ms/step - loss: 0.0115\n",
            "Epoch 6/50\n",
            "21/21 [==============================] - 3s 147ms/step - loss: 0.0102\n",
            "Epoch 7/50\n",
            "21/21 [==============================] - 3s 144ms/step - loss: 0.0096\n",
            "Epoch 8/50\n",
            "21/21 [==============================] - 3s 146ms/step - loss: 0.0089\n",
            "Epoch 9/50\n",
            "21/21 [==============================] - 3s 148ms/step - loss: 0.0071\n",
            "Epoch 10/50\n",
            "21/21 [==============================] - 3s 145ms/step - loss: 0.0078\n",
            "Epoch 11/50\n",
            "21/21 [==============================] - 3s 145ms/step - loss: 0.0078\n",
            "Epoch 12/50\n",
            "21/21 [==============================] - 3s 145ms/step - loss: 0.0066\n",
            "Epoch 13/50\n",
            "21/21 [==============================] - 3s 152ms/step - loss: 0.0073\n",
            "Epoch 14/50\n",
            "21/21 [==============================] - 3s 150ms/step - loss: 0.0092\n",
            "Epoch 15/50\n",
            "21/21 [==============================] - 3s 147ms/step - loss: 0.0095\n",
            "Epoch 16/50\n",
            "21/21 [==============================] - 3s 149ms/step - loss: 0.0064\n",
            "Epoch 17/50\n",
            "21/21 [==============================] - 3s 148ms/step - loss: 0.0071\n",
            "Epoch 18/50\n",
            "21/21 [==============================] - 3s 148ms/step - loss: 0.0065\n",
            "Epoch 19/50\n",
            "21/21 [==============================] - 3s 145ms/step - loss: 0.0054\n",
            "Epoch 20/50\n",
            "21/21 [==============================] - 3s 148ms/step - loss: 0.0064\n",
            "Epoch 21/50\n",
            "21/21 [==============================] - 3s 150ms/step - loss: 0.0056\n",
            "Epoch 22/50\n",
            "21/21 [==============================] - 3s 146ms/step - loss: 0.0060\n",
            "Epoch 23/50\n",
            "21/21 [==============================] - 3s 147ms/step - loss: 0.0054\n",
            "Epoch 24/50\n",
            "21/21 [==============================] - 3s 145ms/step - loss: 0.0054\n",
            "Epoch 25/50\n",
            "21/21 [==============================] - 3s 147ms/step - loss: 0.0053\n",
            "Epoch 26/50\n",
            "21/21 [==============================] - 3s 149ms/step - loss: 0.0081\n",
            "Epoch 27/50\n",
            "21/21 [==============================] - 3s 154ms/step - loss: 0.0060\n",
            "Epoch 28/50\n",
            "21/21 [==============================] - 3s 149ms/step - loss: 0.0061\n",
            "Epoch 29/50\n",
            "21/21 [==============================] - 3s 153ms/step - loss: 0.0051\n",
            "Epoch 30/50\n",
            "21/21 [==============================] - 3s 153ms/step - loss: 0.0048\n",
            "Epoch 31/50\n",
            "21/21 [==============================] - 3s 150ms/step - loss: 0.0048\n",
            "Epoch 32/50\n",
            "21/21 [==============================] - 3s 150ms/step - loss: 0.0062\n",
            "Epoch 33/50\n",
            "21/21 [==============================] - 3s 147ms/step - loss: 0.0060\n",
            "Epoch 34/50\n",
            "21/21 [==============================] - 3s 145ms/step - loss: 0.0058\n",
            "Epoch 35/50\n",
            "21/21 [==============================] - 3s 148ms/step - loss: 0.0043\n",
            "Epoch 36/50\n",
            "21/21 [==============================] - 3s 145ms/step - loss: 0.0044\n",
            "Epoch 37/50\n",
            "21/21 [==============================] - 3s 145ms/step - loss: 0.0052\n",
            "Epoch 38/50\n",
            "21/21 [==============================] - 3s 144ms/step - loss: 0.0054\n",
            "Epoch 39/50\n",
            "21/21 [==============================] - 3s 143ms/step - loss: 0.0047\n",
            "Epoch 40/50\n",
            "21/21 [==============================] - 3s 145ms/step - loss: 0.0049\n",
            "Epoch 41/50\n",
            "21/21 [==============================] - 3s 143ms/step - loss: 0.0048\n",
            "Epoch 42/50\n",
            "21/21 [==============================] - 3s 148ms/step - loss: 0.0041\n",
            "Epoch 43/50\n",
            "21/21 [==============================] - 3s 151ms/step - loss: 0.0049\n",
            "Epoch 44/50\n",
            "21/21 [==============================] - 3s 149ms/step - loss: 0.0042\n",
            "Epoch 45/50\n",
            "21/21 [==============================] - 3s 148ms/step - loss: 0.0042\n",
            "Epoch 46/50\n",
            "21/21 [==============================] - 3s 149ms/step - loss: 0.0046\n",
            "Epoch 47/50\n",
            "21/21 [==============================] - 3s 145ms/step - loss: 0.0042\n",
            "Epoch 48/50\n",
            "21/21 [==============================] - 3s 143ms/step - loss: 0.0041\n",
            "Epoch 49/50\n",
            "21/21 [==============================] - 3s 151ms/step - loss: 0.0043\n",
            "Epoch 50/50\n",
            "21/21 [==============================] - 3s 147ms/step - loss: 0.0044\n"
          ],
          "name": "stdout"
        },
        {
          "output_type": "execute_result",
          "data": {
            "text/plain": [
              "<tensorflow.python.keras.callbacks.History at 0x7faf056c4080>"
            ]
          },
          "metadata": {
            "tags": []
          },
          "execution_count": 13
        }
      ]
    },
    {
      "cell_type": "code",
      "metadata": {
        "id": "FB218TIbz4xf",
        "colab_type": "code",
        "colab": {
          "base_uri": "https://localhost:8080/",
          "height": 204
        },
        "outputId": "4847176a-ada8-43d1-9f7a-50a21a707b0d"
      },
      "source": [
        "data_test.head()"
      ],
      "execution_count": 14,
      "outputs": [
        {
          "output_type": "execute_result",
          "data": {
            "text/html": [
              "<div>\n",
              "<style scoped>\n",
              "    .dataframe tbody tr th:only-of-type {\n",
              "        vertical-align: middle;\n",
              "    }\n",
              "\n",
              "    .dataframe tbody tr th {\n",
              "        vertical-align: top;\n",
              "    }\n",
              "\n",
              "    .dataframe thead th {\n",
              "        text-align: right;\n",
              "    }\n",
              "</style>\n",
              "<table border=\"1\" class=\"dataframe\">\n",
              "  <thead>\n",
              "    <tr style=\"text-align: right;\">\n",
              "      <th></th>\n",
              "      <th>Date</th>\n",
              "      <th>Open</th>\n",
              "      <th>High</th>\n",
              "      <th>Low</th>\n",
              "      <th>Close</th>\n",
              "      <th>Volume</th>\n",
              "      <th>Adj Close</th>\n",
              "    </tr>\n",
              "  </thead>\n",
              "  <tbody>\n",
              "    <tr>\n",
              "      <th>0</th>\n",
              "      <td>6/29/2010</td>\n",
              "      <td>19.000000</td>\n",
              "      <td>25.00</td>\n",
              "      <td>17.540001</td>\n",
              "      <td>23.889999</td>\n",
              "      <td>18766300</td>\n",
              "      <td>23.889999</td>\n",
              "    </tr>\n",
              "    <tr>\n",
              "      <th>1</th>\n",
              "      <td>6/30/2010</td>\n",
              "      <td>25.790001</td>\n",
              "      <td>30.42</td>\n",
              "      <td>23.299999</td>\n",
              "      <td>23.830000</td>\n",
              "      <td>17187100</td>\n",
              "      <td>23.830000</td>\n",
              "    </tr>\n",
              "    <tr>\n",
              "      <th>2</th>\n",
              "      <td>7/1/2010</td>\n",
              "      <td>25.000000</td>\n",
              "      <td>25.92</td>\n",
              "      <td>20.270000</td>\n",
              "      <td>21.959999</td>\n",
              "      <td>8218800</td>\n",
              "      <td>21.959999</td>\n",
              "    </tr>\n",
              "    <tr>\n",
              "      <th>3</th>\n",
              "      <td>7/2/2010</td>\n",
              "      <td>23.000000</td>\n",
              "      <td>23.10</td>\n",
              "      <td>18.709999</td>\n",
              "      <td>19.200001</td>\n",
              "      <td>5139800</td>\n",
              "      <td>19.200001</td>\n",
              "    </tr>\n",
              "    <tr>\n",
              "      <th>4</th>\n",
              "      <td>7/6/2010</td>\n",
              "      <td>20.000000</td>\n",
              "      <td>20.00</td>\n",
              "      <td>15.830000</td>\n",
              "      <td>16.110001</td>\n",
              "      <td>6866900</td>\n",
              "      <td>16.110001</td>\n",
              "    </tr>\n",
              "  </tbody>\n",
              "</table>\n",
              "</div>"
            ],
            "text/plain": [
              "        Date       Open   High        Low      Close    Volume  Adj Close\n",
              "0  6/29/2010  19.000000  25.00  17.540001  23.889999  18766300  23.889999\n",
              "1  6/30/2010  25.790001  30.42  23.299999  23.830000  17187100  23.830000\n",
              "2   7/1/2010  25.000000  25.92  20.270000  21.959999   8218800  21.959999\n",
              "3   7/2/2010  23.000000  23.10  18.709999  19.200001   5139800  19.200001\n",
              "4   7/6/2010  20.000000  20.00  15.830000  16.110001   6866900  16.110001"
            ]
          },
          "metadata": {
            "tags": []
          },
          "execution_count": 14
        }
      ]
    },
    {
      "cell_type": "code",
      "metadata": {
        "id": "77skOAX90FUO",
        "colab_type": "code",
        "colab": {
          "base_uri": "https://localhost:8080/",
          "height": 419
        },
        "outputId": "b687b56b-5e52-4a90-c1b0-e2734b2dd8c8"
      },
      "source": [
        "past_60_days = data_train.tail(60)\n",
        "\n",
        "df = past_60_days.append(data_test, ignore_index=True)\n",
        "df = df.drop(['Date','Adj Close'], axis=1)\n",
        "df"
      ],
      "execution_count": 15,
      "outputs": [
        {
          "output_type": "execute_result",
          "data": {
            "text/html": [
              "<div>\n",
              "<style scoped>\n",
              "    .dataframe tbody tr th:only-of-type {\n",
              "        vertical-align: middle;\n",
              "    }\n",
              "\n",
              "    .dataframe tbody tr th {\n",
              "        vertical-align: top;\n",
              "    }\n",
              "\n",
              "    .dataframe thead th {\n",
              "        text-align: right;\n",
              "    }\n",
              "</style>\n",
              "<table border=\"1\" class=\"dataframe\">\n",
              "  <thead>\n",
              "    <tr style=\"text-align: right;\">\n",
              "      <th></th>\n",
              "      <th>Open</th>\n",
              "      <th>High</th>\n",
              "      <th>Low</th>\n",
              "      <th>Close</th>\n",
              "      <th>Volume</th>\n",
              "    </tr>\n",
              "  </thead>\n",
              "  <tbody>\n",
              "    <tr>\n",
              "      <th>0</th>\n",
              "      <td>188.250000</td>\n",
              "      <td>188.529999</td>\n",
              "      <td>181.000000</td>\n",
              "      <td>181.880005</td>\n",
              "      <td>5126400</td>\n",
              "    </tr>\n",
              "    <tr>\n",
              "      <th>1</th>\n",
              "      <td>182.880005</td>\n",
              "      <td>184.880005</td>\n",
              "      <td>180.000000</td>\n",
              "      <td>181.470001</td>\n",
              "      <td>4042300</td>\n",
              "    </tr>\n",
              "    <tr>\n",
              "      <th>2</th>\n",
              "      <td>182.509995</td>\n",
              "      <td>188.889999</td>\n",
              "      <td>182.509995</td>\n",
              "      <td>186.800003</td>\n",
              "      <td>4072200</td>\n",
              "    </tr>\n",
              "    <tr>\n",
              "      <th>3</th>\n",
              "      <td>185.520004</td>\n",
              "      <td>186.580002</td>\n",
              "      <td>182.679993</td>\n",
              "      <td>185.850006</td>\n",
              "      <td>3391600</td>\n",
              "    </tr>\n",
              "    <tr>\n",
              "      <th>4</th>\n",
              "      <td>186.149994</td>\n",
              "      <td>193.399994</td>\n",
              "      <td>185.000000</td>\n",
              "      <td>193.149994</td>\n",
              "      <td>5461900</td>\n",
              "    </tr>\n",
              "    <tr>\n",
              "      <th>...</th>\n",
              "      <td>...</td>\n",
              "      <td>...</td>\n",
              "      <td>...</td>\n",
              "      <td>...</td>\n",
              "      <td>...</td>\n",
              "    </tr>\n",
              "    <tr>\n",
              "      <th>1027</th>\n",
              "      <td>244.820007</td>\n",
              "      <td>246.850006</td>\n",
              "      <td>242.779999</td>\n",
              "      <td>246.169998</td>\n",
              "      <td>3010700</td>\n",
              "    </tr>\n",
              "    <tr>\n",
              "      <th>1028</th>\n",
              "      <td>246.110001</td>\n",
              "      <td>258.119995</td>\n",
              "      <td>246.020004</td>\n",
              "      <td>258.000000</td>\n",
              "      <td>7575500</td>\n",
              "    </tr>\n",
              "    <tr>\n",
              "      <th>1029</th>\n",
              "      <td>257.000000</td>\n",
              "      <td>261.000000</td>\n",
              "      <td>254.270004</td>\n",
              "      <td>255.729996</td>\n",
              "      <td>4816600</td>\n",
              "    </tr>\n",
              "    <tr>\n",
              "      <th>1030</th>\n",
              "      <td>262.399994</td>\n",
              "      <td>265.750000</td>\n",
              "      <td>259.059998</td>\n",
              "      <td>262.049988</td>\n",
              "      <td>7100400</td>\n",
              "    </tr>\n",
              "    <tr>\n",
              "      <th>1031</th>\n",
              "      <td>264.000000</td>\n",
              "      <td>265.329987</td>\n",
              "      <td>261.200012</td>\n",
              "      <td>261.500000</td>\n",
              "      <td>6475900</td>\n",
              "    </tr>\n",
              "  </tbody>\n",
              "</table>\n",
              "<p>1032 rows × 5 columns</p>\n",
              "</div>"
            ],
            "text/plain": [
              "            Open        High         Low       Close   Volume\n",
              "0     188.250000  188.529999  181.000000  181.880005  5126400\n",
              "1     182.880005  184.880005  180.000000  181.470001  4042300\n",
              "2     182.509995  188.889999  182.509995  186.800003  4072200\n",
              "3     185.520004  186.580002  182.679993  185.850006  3391600\n",
              "4     186.149994  193.399994  185.000000  193.149994  5461900\n",
              "...          ...         ...         ...         ...      ...\n",
              "1027  244.820007  246.850006  242.779999  246.169998  3010700\n",
              "1028  246.110001  258.119995  246.020004  258.000000  7575500\n",
              "1029  257.000000  261.000000  254.270004  255.729996  4816600\n",
              "1030  262.399994  265.750000  259.059998  262.049988  7100400\n",
              "1031  264.000000  265.329987  261.200012  261.500000  6475900\n",
              "\n",
              "[1032 rows x 5 columns]"
            ]
          },
          "metadata": {
            "tags": []
          },
          "execution_count": 15
        }
      ]
    },
    {
      "cell_type": "code",
      "metadata": {
        "id": "5CbHlvRZ0bj-",
        "colab_type": "code",
        "colab": {
          "base_uri": "https://localhost:8080/",
          "height": 34
        },
        "outputId": "ee9ed876-219c-49c9-fd4d-2a172e0cf6dd"
      },
      "source": [
        "inputs = scaler.transform(df)\n",
        "\n",
        "X_test = []\n",
        "y_test = []\n",
        "\n",
        "for i in range(60, inputs.shape[0]):\n",
        "  X_test.append(inputs[i-60:i])\n",
        "  y_test.append(inputs[i,0])\n",
        "\n",
        "X_test, y_test = np.array(X_test), np.array(y_test)\n",
        "X_test.shape, y_test.shape"
      ],
      "execution_count": 16,
      "outputs": [
        {
          "output_type": "execute_result",
          "data": {
            "text/plain": [
              "((972, 60, 5), (972,))"
            ]
          },
          "metadata": {
            "tags": []
          },
          "execution_count": 16
        }
      ]
    },
    {
      "cell_type": "code",
      "metadata": {
        "id": "ewYzGSao1TgG",
        "colab_type": "code",
        "colab": {}
      },
      "source": [
        "y_pred = regression.predict(X_test)"
      ],
      "execution_count": 17,
      "outputs": []
    },
    {
      "cell_type": "code",
      "metadata": {
        "id": "D9qESg-710Gi",
        "colab_type": "code",
        "colab": {
          "base_uri": "https://localhost:8080/",
          "height": 51
        },
        "outputId": "6997e41e-0d23-4a64-d8d9-5139abddfeef"
      },
      "source": [
        "scaler.scale_"
      ],
      "execution_count": 18,
      "outputs": [
        {
          "output_type": "execute_result",
          "data": {
            "text/plain": [
              "array([3.84393622e-03, 3.74377578e-03, 3.86682672e-03, 3.83244531e-03,\n",
              "       3.07095126e-08])"
            ]
          },
          "metadata": {
            "tags": []
          },
          "execution_count": 18
        }
      ]
    },
    {
      "cell_type": "code",
      "metadata": {
        "id": "Kp2TCBoL2KRb",
        "colab_type": "code",
        "colab": {}
      },
      "source": [
        "scale = 1/8.18605127e-04\n",
        "\n",
        "y_pred = y_pred*scale\n",
        "y_test = y_test*scale\n"
      ],
      "execution_count": 19,
      "outputs": []
    },
    {
      "cell_type": "code",
      "metadata": {
        "id": "S5JlSmJB2lkd",
        "colab_type": "code",
        "colab": {
          "base_uri": "https://localhost:8080/",
          "height": 350
        },
        "outputId": "c4049375-9a56-4338-a444-88e7ba6eb027"
      },
      "source": [
        "plt.figure(figsize=(14,5))\n",
        "plt.plot(y_test, color = 'blue', label = 'Real Stock Prize')\n",
        "plt.plot(y_pred, color='red', label = 'Predicted Stock Prize')\n",
        "plt.title('Time series forecasting')\n",
        "plt.xlabel('Time')\n",
        "plt.ylabel('Stock Prize')\n",
        "plt.legend()\n",
        "plt.show()"
      ],
      "execution_count": 20,
      "outputs": [
        {
          "output_type": "display_data",
          "data": {
            "image/png": "[encoded data removed]",
            "text/plain": [
              "<Figure size 1008x360 with 1 Axes>"
            ]
          },
          "metadata": {
            "tags": [],
            "needs_background": "light"
          }
        }
      ]
    }
  ]
}